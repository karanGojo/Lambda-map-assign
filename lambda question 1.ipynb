{
 "cells": [
  {
   "cell_type": "code",
   "execution_count": 5,
   "id": "906974fe",
   "metadata": {},
   "outputs": [
    {
     "name": "stdout",
     "output_type": "stream",
     "text": [
      "Output: 35\n"
     ]
    }
   ],
   "source": [
    "#Write a Python program to create a lambda function that adds 25 to a given number passed in as an argument.\n",
    "\n",
    "\n",
    "r = lambda x: x+ 25\n",
    "print(\"Output:\",r(10))"
   ]
  },
  {
   "cell_type": "code",
   "execution_count": null,
   "id": "54037927",
   "metadata": {},
   "outputs": [],
   "source": []
  }
 ],
 "metadata": {
  "kernelspec": {
   "display_name": "Python 3 (ipykernel)",
   "language": "python",
   "name": "python3"
  },
  "language_info": {
   "codemirror_mode": {
    "name": "ipython",
    "version": 3
   },
   "file_extension": ".py",
   "mimetype": "text/x-python",
   "name": "python",
   "nbconvert_exporter": "python",
   "pygments_lexer": "ipython3",
   "version": "3.9.12"
  }
 },
 "nbformat": 4,
 "nbformat_minor": 5
}
