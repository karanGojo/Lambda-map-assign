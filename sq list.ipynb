{
 "cells": [
  {
   "cell_type": "code",
   "execution_count": 2,
   "id": "724aa53e",
   "metadata": {},
   "outputs": [
    {
     "name": "stdout",
     "output_type": "stream",
     "text": [
      "original list: [4, 5, 2, 9]\n",
      "Sq of list:\n",
      "[16, 25, 4, 81]\n"
     ]
    }
   ],
   "source": [
    "#write a Python program to square the elements of a list using map() function.\n",
    "\n",
    "\n",
    "nums_list =[4, 5, 2, 9]\n",
    "print(\"Original list:\", nums_list)\n",
    "sq_list= map(lambda x: x**2 , nums_list)# map and lambda function\n",
    "print(\"Sq of list:\")\n",
    "print(list(sq_list))"
   ]
  },
  {
   "cell_type": "code",
   "execution_count": null,
   "id": "710a3591",
   "metadata": {},
   "outputs": [],
   "source": []
  }
 ],
 "metadata": {
  "kernelspec": {
   "display_name": "Python 3 (ipykernel)",
   "language": "python",
   "name": "python3"
  },
  "language_info": {
   "codemirror_mode": {
    "name": "ipython",
    "version": 3
   },
   "file_extension": ".py",
   "mimetype": "text/x-python",
   "name": "python",
   "nbconvert_exporter": "python",
   "pygments_lexer": "ipython3",
   "version": "3.9.12"
  }
 },
 "nbformat": 4,
 "nbformat_minor": 5
}
